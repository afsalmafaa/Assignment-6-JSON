{
 "cells": [
  {
   "cell_type": "markdown",
   "id": "3c90f06d",
   "metadata": {},
   "source": [
    "## Assignment 1"
   ]
  },
  {
   "cell_type": "markdown",
   "id": "2f2f0861",
   "metadata": {},
   "source": [
    "### 1. Create a JSON file (employee.json) containing employee information of minimum 5 employees. Each employee information consists of Name, DOB, Height, City, State. Write a python program that reads this information from the JSON file and saves the information into a list of objects of Employee class. Finally print the list of the Employee objects."
   ]
  },
  {
   "cell_type": "code",
   "execution_count": 11,
   "id": "2edfc72b",
   "metadata": {},
   "outputs": [
    {
     "name": "stdout",
     "output_type": "stream",
     "text": [
      "Name: Mohammed Afsal, DOB: 2001-12-11, Height: 162, City: Viluppuram, State: TamilNadu\n",
      "Name: Deepak Kumar, DOB: 2001-09-08, Height: 163, City: Chennai, State: TamilNadu\n",
      "Name: Dhayanithi, DOB: 2002-03-25, Height: 164, City: Chennai, State: TamilNadu\n",
      "Name: Barathan, DOB: 2003-12-07, Height: 165, City: Chennai, State: TamilNadu\n",
      "Name: Salaudeen, DOB: 2001-10-11, Height: 168, City: Dharmapuri, State: TamilNadu\n"
     ]
    }
   ],
   "source": [
    "import json\n",
    "\n",
    "class Employee:\n",
    "    def __init__(self,name,dob,height,city,state):\n",
    "        self.name = name\n",
    "        self.dob = dob\n",
    "        self.height = height\n",
    "        self.city = city\n",
    "        self.state = state\n",
    "        \n",
    "    def __str__(self):\n",
    "        return f\"Name: {self.name}, DOB: {self.dob}, Height: {self.height}, City: {self.city}, State: {self.state}\"\n",
    "    \n",
    "with open('employee.json', 'r') as json_file:\n",
    "    employee_data = json.load(json_file)\n",
    "    \n",
    "employees = []\n",
    "for employee_info in employee_data:\n",
    "    employee = Employee(\n",
    "        employee_info['Name'],\n",
    "        employee_info['DOB'],\n",
    "        employee_info['Height'],\n",
    "        employee_info['City'],\n",
    "        employee_info['State']\n",
    "    )\n",
    "    employees.append(employee)\n",
    "    \n",
    "for employee in employees:\n",
    "    print(employee)\n",
    "    "
   ]
  },
  {
   "cell_type": "markdown",
   "id": "c8897615",
   "metadata": {},
   "source": [
    "### 2. Create a dictionary of any 7 Indian states and their capitals. Write this into a JSON file."
   ]
  },
  {
   "cell_type": "code",
   "execution_count": 1,
   "id": "9cbabf7e",
   "metadata": {},
   "outputs": [],
   "source": [
    "import json\n",
    "\n",
    "indian_states = {\n",
    "    \"Andhra Pradesh\": \"Hyderabad\",\n",
    "    \"Maharashtra\": \"Mumbai\",\n",
    "    \"Tamil Nadu\": \"Chennai\",\n",
    "    \"Karnataka\": \"Bangalore\",\n",
    "    \"Kerala\": \"Thiruvananthapuram\",\n",
    "    \"Uttar Pradesh\": \"Lucknow\",\n",
    "    \"Rajasthan\": \"Jaipur\"\n",
    "}\n",
    "\n",
    "with open(\"indian_states.json\", \"w\") as file_handler:\n",
    "    file_handler.write(json.dumps(indian_states))"
   ]
  },
  {
   "cell_type": "code",
   "execution_count": 2,
   "id": "6a116b99",
   "metadata": {},
   "outputs": [
    {
     "name": "stdout",
     "output_type": "stream",
     "text": [
      "{\"Andhra Pradesh\": \"Hyderabad\", \"Maharashtra\": \"Mumbai\", \"Tamil Nadu\": \"Chennai\", \"Karnataka\": \"Bangalore\", \"Kerala\": \"Thiruvananthapuram\", \"Uttar Pradesh\": \"Lucknow\", \"Rajasthan\": \"Jaipur\"}\n"
     ]
    }
   ],
   "source": [
    "print(json.dumps(indian_states))"
   ]
  },
  {
   "cell_type": "markdown",
   "id": "e7922a27",
   "metadata": {},
   "source": [
    "### Assignment 2"
   ]
  },
  {
   "cell_type": "markdown",
   "id": "28e60021",
   "metadata": {},
   "source": [
    "### 1. Create a class named ‘Dog’. It should have a constructor which accepts its name, age and coat color. You must perform the following operations:\n",
    "\n",
    "🔴 a. It should have a function ‘description()’ which prints the name and age of the dog.\n",
    "🔴 b. It should have a function ‘get_info()’ which prints the coat color of the dog.\n",
    "🔴 c. Create child classes ‘JackRussellTerrier’ and ‘Bulldog’ which is inherited from the class ‘Dog’. It should have at least two methods of its own.\n",
    "🔴 d. Create objects and implement the above functionalities."
   ]
  },
  {
   "cell_type": "code",
   "execution_count": 9,
   "id": "dba4960d",
   "metadata": {},
   "outputs": [
    {
     "name": "stdout",
     "output_type": "stream",
     "text": [
      "Buddy is 3 years old.\n",
      "Buddy's coat color is brown.\n",
      "\n",
      "\n",
      "Rocky is 2 years old.\n",
      "Rocky is a Jack Russell Terrier.\n",
      "Rocky's coat color is white and brown.\n",
      "Rocky is energetic dog\n",
      "Rocky Hunting ability is their nature skill.\n",
      "\n",
      "\n",
      "Ruban is 4 years old.\n",
      "Ruban is a Bulldog.\n",
      "Ruban's coat color is brindle.\n",
      "Ruban is strong and fearless nature.\n",
      "Ruban could recover from an attack and keep fighting is the strength.\n",
      "\n",
      "\n"
     ]
    }
   ],
   "source": [
    "class Dog:\n",
    "    def __init__(self, name, age, coat_color):\n",
    "        self.name = name\n",
    "        self.age = age\n",
    "        self.coat_color = coat_color\n",
    "    \n",
    "    def description(self):\n",
    "        print(f\"{self.name} is {self.age} years old.\")\n",
    "    \n",
    "    def get_info(self):\n",
    "        print(f\"{self.name}'s coat color is {self.coat_color}.\")\n",
    "\n",
    "class JackRussellTerrier(Dog):\n",
    "    def __init__(self, name, age, coat_color, special_skill):\n",
    "        super().__init__(name, age, coat_color)\n",
    "        self.special_skill = special_skill\n",
    "    \n",
    "    def description(self):\n",
    "        super().description()\n",
    "        print(f\"{self.name} is a Jack Russell Terrier.\")\n",
    "    \n",
    "    def energetic(self):\n",
    "        print(f\"{self.name} is energetic dog\")\n",
    "        \n",
    "    def hunt(self):\n",
    "        print(f\"{self.name} Hunting ability is their nature {self.special_skill}.\")\n",
    "    \n",
    "class Bulldog(Dog):\n",
    "    def __init__(self, name, age, coat_color, strength):\n",
    "        super().__init__(name, age, coat_color)\n",
    "        self.strength = strength\n",
    "    \n",
    "    def description(self):\n",
    "        super().description()\n",
    "        print(f\"{self.name} is a Bulldog.\")\n",
    "    \n",
    "    def fearless_nature(self):\n",
    "        print(f\"{self.name} is strong and fearless nature.\")\n",
    "        \n",
    "    def keep_fighting(self):\n",
    "        print(f\"{self.name} could recover from an attack and keep fighting {self.strength}.\")\n",
    "\n",
    "# Creating objects and using functionalities\n",
    "dog1 = Dog(\"Buddy\", 3, \"brown\")\n",
    "dog1.description()\n",
    "dog1.get_info()\n",
    "print(\"\\n\")\n",
    "\n",
    "jack_russell = JackRussellTerrier(\"Rocky\", 2, \"white and brown\", \"skill\")\n",
    "jack_russell.description()\n",
    "jack_russell.get_info()\n",
    "jack_russell.energetic()\n",
    "jack_russell.hunt()\n",
    "print(\"\\n\")\n",
    "\n",
    "bulldog1 = Bulldog(\"Ruban\", 4, \"brindle\",\"is the strength\")\n",
    "bulldog1.description()\n",
    "bulldog1.get_info()\n",
    "bulldog1.fearless_nature()\n",
    "bulldog1.keep_fighting()\n",
    "print(\"\\n\")"
   ]
  }
 ],
 "metadata": {
  "kernelspec": {
   "display_name": "Python 3 (ipykernel)",
   "language": "python",
   "name": "python3"
  },
  "language_info": {
   "codemirror_mode": {
    "name": "ipython",
    "version": 3
   },
   "file_extension": ".py",
   "mimetype": "text/x-python",
   "name": "python",
   "nbconvert_exporter": "python",
   "pygments_lexer": "ipython3",
   "version": "3.10.9"
  }
 },
 "nbformat": 4,
 "nbformat_minor": 5
}
